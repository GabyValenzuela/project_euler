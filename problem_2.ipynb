{
 "cells": [
  {
   "cell_type": "code",
   "execution_count": 113,
   "id": "16856f1d-74c7-4dc9-8c2a-5a363848080a",
   "metadata": {},
   "outputs": [
    {
     "name": "stdout",
     "output_type": "stream",
     "text": [
      "[0, 1, 1, 2, 3, 5, 8, 13, 21, 34]\n"
     ]
    }
   ],
   "source": [
    "\"\"\" This code is left to understand how to create a Fibonacci sequence in Python, once that is understood, \n",
    "    the solution is presented in the following block of code \"\"\"\n",
    "\n",
    "# Creating a Fibonacci sequence based on a number of iterations\n",
    "def fibonacci_seq(number):\n",
    "\n",
    "    a , b = 0, 1\n",
    "    fib_seq = []\n",
    "    \n",
    "    #while a < number:      #use this if the result you want is limited to the value of the numbers in the Fibonacci sequence\n",
    "    for n in range(number): #use this if you want to iterate x number of times\n",
    "        fib_seq.append(a)\n",
    "        a, b = b, a + b\n",
    "            \n",
    "    print(fib_seq)\n",
    "\n",
    "fibonacci_seq(10)"
   ]
  },
  {
   "cell_type": "code",
   "execution_count": 112,
   "id": "839d5fb1-82e2-41f6-a1dc-0a2749d3415e",
   "metadata": {},
   "outputs": [
    {
     "name": "stdout",
     "output_type": "stream",
     "text": [
      "4613732\n"
     ]
    }
   ],
   "source": [
    "\"\"\" Solution to problem two, where we want the sum of the number of Fibonacci numbers divisible by 2 and not\n",
    "    greater than 4,000,000 \"\"\"\n",
    "\n",
    "def fibonacci_even_seq(number):\n",
    "\n",
    "    a , b = 0, 1\n",
    "    fib_even_seq = []\n",
    "    \n",
    "    while a < number :\n",
    "        if a%2 == 0:\n",
    "            fib_even_seq.append(a)\n",
    "        a, b = b, a + b\n",
    "              \n",
    "    #print(fib_even_seq)        #printing all numbers in the Fibonacci sequence that are divisible by 2\n",
    "    print(sum(fib_even_seq))   #printing the sum of the even numbers from the Fibonacci sequence #This could potentially use a return statement instead of a print\n",
    "\n",
    "fibonacci_even_seq(4000000)"
   ]
  }
 ],
 "metadata": {
  "kernelspec": {
   "display_name": "Python 3 (ipykernel)",
   "language": "python",
   "name": "python3"
  },
  "language_info": {
   "codemirror_mode": {
    "name": "ipython",
    "version": 3
   },
   "file_extension": ".py",
   "mimetype": "text/x-python",
   "name": "python",
   "nbconvert_exporter": "python",
   "pygments_lexer": "ipython3",
   "version": "3.9.1"
  }
 },
 "nbformat": 4,
 "nbformat_minor": 5
}
