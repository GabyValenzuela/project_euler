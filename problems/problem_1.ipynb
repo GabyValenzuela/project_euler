{
 "cells": [
  {
   "cell_type": "markdown",
   "id": "4a2d43c1-a688-434f-a5b4-b4b9d3f80e99",
   "metadata": {},
   "source": [
    "# Problem 1\n",
    "### Numbers below 1,000 that are both divisible by 3 and 5"
   ]
  },
  {
   "cell_type": "code",
   "execution_count": 29,
   "id": "96786af6-e2c7-40d8-9512-11cc54a4b4d6",
   "metadata": {},
   "outputs": [
    {
     "name": "stdout",
     "output_type": "stream",
     "text": [
      "Total:  233168\n"
     ]
    }
   ],
   "source": [
    "\"\"\"Solution to problem 1 P. Euler, using WHILE loop\"\"\"\n",
    "\n",
    "threshold = 1000\n",
    "\n",
    "i = 0\n",
    "lst= []\n",
    "sum_i = 0\n",
    "limit = (threshold - 1)\n",
    "        \n",
    "while i < limit: \n",
    "    i += 1\n",
    "    if i%3 == 0:\n",
    "        lst.append(i)\n",
    "        sum_i = sum(lst)\n",
    "    elif i%5 ==0:\n",
    "        lst.append(i)\n",
    "        sum_i = sum(lst)\n",
    "    else:\n",
    "        continue\n",
    "    \n",
    "print(\"Total: \", sum_i)"
   ]
  },
  {
   "cell_type": "code",
   "execution_count": 30,
   "id": "bfe451c2-64dd-4f1a-8ad8-d6729ceb84e8",
   "metadata": {},
   "outputs": [
    {
     "name": "stdout",
     "output_type": "stream",
     "text": [
      "Total:  233168\n"
     ]
    }
   ],
   "source": [
    "\"\"\"Solution to problem 1 P. Euler, using FOR loop\"\"\"\n",
    "\n",
    "total = 0\n",
    "\n",
    "for n in range(1000):  #RANGE() is exclusive by default, meaning that it won't consider the last value, in this case, 1,000.\n",
    "    if n%3 == 0:\n",
    "        total += n\n",
    "    elif n%5 == 0 :\n",
    "        total += n\n",
    "    else:\n",
    "        continue\n",
    "\n",
    "print(\"Total: \", total)"
   ]
  },
  {
   "cell_type": "code",
   "execution_count": null,
   "id": "766f6f2e-8429-4c17-9637-a74f4d0876f8",
   "metadata": {},
   "outputs": [],
   "source": [
    "\"\"\"\n",
    "#Solution to problem 1 P. Euler, using WHILE loop w/COMMENTS\n",
    "\n",
    "threshold = 1000  # Change or play with this threshold to test a smaller number than the current one\n",
    "\n",
    "i = 0\n",
    "lst= []\n",
    "sum_i = 0\n",
    "\n",
    "#This limit ensures that the threshold number is not considered, as the addition happens after the \n",
    "#condition that checks the limit. For this example, if we had placed 'threshold' instead of 'limit', 999 would\n",
    "#pass the condition of being smaller than 1,000 but then 1,000 would be considered in the calculation, giving us an \n",
    "#error in the final sum of the natural numbers that are divisible by 3 and 5.\n",
    "limit = (threshold - 1)\n",
    "        \n",
    "while i < limit: \n",
    "    i += 1\n",
    "    if i%3 == 0:\n",
    "        lst.append(i)\n",
    "        sum_i = sum(lst)\n",
    "        #print(sum_i)     # I left this print here in case someone needs to test the code and see how the sum accumulates with every number added to the list\n",
    "    elif i%5 ==0:\n",
    "        lst.append(i)\n",
    "        sum_i = sum(lst)\n",
    "        #print(sum_i)     # Same comment as above\n",
    "    else:\n",
    "        continue\n",
    "    \n",
    "#print(lst) #I left this print in case this code gets tested for a smaller number and someone wants to see the result of all the numbers added\n",
    "print(\"Total: \", sum_i)\n",
    "\n",
    "\"\"\""
   ]
  }
 ],
 "metadata": {
  "kernelspec": {
   "display_name": "Python 3 (ipykernel)",
   "language": "python",
   "name": "python3"
  },
  "language_info": {
   "codemirror_mode": {
    "name": "ipython",
    "version": 3
   },
   "file_extension": ".py",
   "mimetype": "text/x-python",
   "name": "python",
   "nbconvert_exporter": "python",
   "pygments_lexer": "ipython3",
   "version": "3.9.1"
  }
 },
 "nbformat": 4,
 "nbformat_minor": 5
}
