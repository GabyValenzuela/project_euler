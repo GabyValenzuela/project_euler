{
 "cells": [
  {
   "cell_type": "markdown",
   "id": "748f93ca",
   "metadata": {},
   "source": [
    "# Problem 4\n",
    "### Largest palindrome number"
   ]
  },
  {
   "cell_type": "code",
   "execution_count": 1,
   "id": "a5b4751a",
   "metadata": {},
   "outputs": [
    {
     "name": "stdout",
     "output_type": "stream",
     "text": [
      "997799\n"
     ]
    }
   ],
   "source": [
    "\"\"\" Creating the largest palindrome function that is based on the number of digits to be multiplied to \n",
    "    generate the answer of the largest palindrome \"\"\"\n",
    "\n",
    "def largest_palindrome_number(product_digits):\n",
    "    \n",
    "    # Defining as an integer the input\n",
    "    product_digits = int(product_digits)\n",
    "    \n",
    "    \"\"\" Since this code is searching for the largest number based on the multiplication of n digits, \n",
    "    we aim to find the highest number it can produce. This means it will always start with the \n",
    "    maximum result it can achieve. For example, if we are looking for the largest palindrome \n",
    "    that a two-digit product can give, we would begin the loop with the result of 99 * 99, \n",
    "    which is the highest number obtained by multiplying two digits.  \"\"\"\n",
    "    \n",
    "    # Determining the maximum product based on the number of digits\n",
    "    multiplier = int('9' * product_digits)\n",
    "    \n",
    "    largest_number = (multiplier * multiplier)\n",
    "    \n",
    "    # Reversing the largest number for comparison to check if it's a palindrome\n",
    "    # A string conversion is needed to use this reverse syntax\n",
    "    reversed_number = str(largest_number)[::-1]\n",
    "    \n",
    "    # Initiating a loop to check if the largest number is a palindrome, \n",
    "    # then decrementing iteratively to find the palindrome\n",
    "    while largest_number != int(reversed_number) :\n",
    "        \n",
    "            reversed_number = str(largest_number)[::-1]\n",
    "            \n",
    "            if largest_number == int(reversed_number) :\n",
    "                \n",
    "                palindrome_number = largest_number\n",
    "                \n",
    "                print(palindrome_number)\n",
    "                \n",
    "                break\n",
    "                \n",
    "            else:\n",
    "                \n",
    "                largest_number -= 1\n",
    "\n",
    "# Invoking the function with 3 (required for this problem) as the number of \n",
    "# product digits to find the largest palindrome number\n",
    "largest_palindrome_number(3)"
   ]
  }
 ],
 "metadata": {
  "kernelspec": {
   "display_name": "Python 3 (ipykernel)",
   "language": "python",
   "name": "python3"
  },
  "language_info": {
   "codemirror_mode": {
    "name": "ipython",
    "version": 3
   },
   "file_extension": ".py",
   "mimetype": "text/x-python",
   "name": "python",
   "nbconvert_exporter": "python",
   "pygments_lexer": "ipython3",
   "version": "3.11.5"
  }
 },
 "nbformat": 4,
 "nbformat_minor": 5
}
