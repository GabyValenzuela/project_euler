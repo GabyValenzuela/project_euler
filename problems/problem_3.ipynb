{
 "cells": [
  {
   "cell_type": "markdown",
   "id": "d198cf0f-f6c1-4c7d-9c10-82424e43e1e9",
   "metadata": {},
   "source": [
    "# Problem 3\n",
    "### Largest prime factor"
   ]
  },
  {
   "cell_type": "code",
   "execution_count": 59,
   "id": "3c39fd87-069d-49b3-840d-28ede0a3587e",
   "metadata": {},
   "outputs": [
    {
     "name": "stdout",
     "output_type": "stream",
     "text": [
      "The largest prime factor of 600851475143 is: 6857\n"
     ]
    }
   ],
   "source": [
    "# Optimal Solution\n",
    "\n",
    "def largest_prime_factor(number):\n",
    "    divisor = 2\n",
    "    while number > 1:\n",
    "        if number % divisor == 0:\n",
    "            # This is the key to solving this problem, since every time that a number can be divided, \n",
    "            # the number will be updated to the new result of the division\n",
    "            number //= divisor\n",
    "        else:\n",
    "            divisor += 1\n",
    "    return divisor\n",
    "\n",
    "number_to_factorize = 600851475143\n",
    "result = largest_prime_factor(number_to_factorize)\n",
    "print(\"The largest prime factor of\", number_to_factorize, \"is:\", result)"
   ]
  },
  {
   "cell_type": "code",
   "execution_count": 55,
   "id": "a58a15f8-14f7-4bdb-b2d3-eed83755cdb1",
   "metadata": {},
   "outputs": [
    {
     "name": "stdout",
     "output_type": "stream",
     "text": [
      "[5, 7, 13, 29]\n",
      " The largest prime number is: 29\n"
     ]
    }
   ],
   "source": [
    "# This was my simple solution, which is limited by creating a list long enough to contain all the primes for a number given\n",
    "# This is not the ideal solution, but a solution for smaller numbers\n",
    "\n",
    "n = 13195\n",
    "n_primes = []\n",
    "prime_factors = [2, 3, 5, 7, 11, 13, 17, 19, 23, 29, 31, 37, 41, 43, 47] # First 15 prime numbers\n",
    "\n",
    "for i in prime_factors:\n",
    "    while n % i == 0:\n",
    "        n_primes.append(i)\n",
    "        n //= i  # Update n by dividing it by the factor i\n",
    "\n",
    "print(n_primes)\n",
    "print(f\"\"\" The largest prime number is: {max(n_primes)}\"\"\")"
   ]
  },
  {
   "cell_type": "code",
   "execution_count": 57,
   "id": "1d887308-e5e9-49a6-aece-f7261f15e51d",
   "metadata": {},
   "outputs": [
    {
     "name": "stdout",
     "output_type": "stream",
     "text": [
      "[2, 3, 5, 7, 11, 13, 17, 19, 23, 29, 31, 37, 41, 43, 47, 53, 59, 61, 67, 71, 73, 79, 83, 89, 97]\n"
     ]
    }
   ],
   "source": [
    "# Code found online to get a list of prime numbers\n",
    "\n",
    "def sieve_of_eratosthenes(limit):\n",
    "    primes = []\n",
    "    sieve = [True] * (limit + 1)\n",
    "    sieve[0] = sieve[1] = False\n",
    "\n",
    "    for num in range(2, int(limit ** 0.5) + 1):\n",
    "        if sieve[num]:\n",
    "            primes.append(num)\n",
    "            for multiple in range(num * num, limit + 1, num):\n",
    "                sieve[multiple] = False\n",
    "\n",
    "    for num in range(int(limit ** 0.5) + 1, limit + 1):\n",
    "        if sieve[num]:\n",
    "            primes.append(num)\n",
    "\n",
    "    return primes\n",
    "\n",
    "limit = 100\n",
    "prime_numbers = sieve_of_eratosthenes(limit)\n",
    "print(prime_numbers)"
   ]
  }
 ],
 "metadata": {
  "kernelspec": {
   "display_name": "Python 3 (ipykernel)",
   "language": "python",
   "name": "python3"
  },
  "language_info": {
   "codemirror_mode": {
    "name": "ipython",
    "version": 3
   },
   "file_extension": ".py",
   "mimetype": "text/x-python",
   "name": "python",
   "nbconvert_exporter": "python",
   "pygments_lexer": "ipython3",
   "version": "3.11.5"
  }
 },
 "nbformat": 4,
 "nbformat_minor": 5
}
